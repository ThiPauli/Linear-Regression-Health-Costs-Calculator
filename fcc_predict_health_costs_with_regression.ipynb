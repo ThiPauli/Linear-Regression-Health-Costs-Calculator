{
  "nbformat": 4,
  "nbformat_minor": 0,
  "metadata": {
    "colab": {
      "name": "fcc_predict_health_costs_with_regression.ipynb",
      "provenance": [],
      "collapsed_sections": [],
      "include_colab_link": true
    },
    "kernelspec": {
      "display_name": "Python 3",
      "name": "python3"
    }
  },
  "cells": [
    {
      "cell_type": "markdown",
      "metadata": {
        "id": "view-in-github",
        "colab_type": "text"
      },
      "source": [
        "<a href=\"https://colab.research.google.com/github/ThiPauli/Linear-Regression-Health-Costs-Calculator/blob/main/fcc_predict_health_costs_with_regression.ipynb\" target=\"_parent\"><img src=\"https://colab.research.google.com/assets/colab-badge.svg\" alt=\"Open In Colab\"/></a>"
      ]
    },
    {
      "cell_type": "markdown",
      "metadata": {
        "id": "M9TX15KOkPBV"
      },
      "source": [
        "*Note: You are currently reading this using Google Colaboratory which is a cloud-hosted version of Jupyter Notebook. This is a document containing both text cells for documentation and runnable code cells. If you are unfamiliar with Jupyter Notebook, watch this 3-minute introduction before starting this challenge: https://www.youtube.com/watch?v=inN8seMm7UI*\n",
        "\n",
        "---\n",
        "\n",
        "In this challenge, you will predict healthcare costs using a regression algorithm.\n",
        "\n",
        "You are given a dataset that contains information about different people including their healthcare costs. Use the data to predict healthcare costs based on new data.\n",
        "\n",
        "The first two cells of this notebook import libraries and the data.\n",
        "\n",
        "Make sure to convert categorical data to numbers. Use 80% of the data as the `train_dataset` and 20% of the data as the `test_dataset`.\n",
        "\n",
        "`pop` off the \"expenses\" column from these datasets to create new datasets called `train_labels` and `test_labels`. Use these labels when training your model.\n",
        "\n",
        "Create a model and train it with the `train_dataset`. Run the final cell in this notebook to check your model. The final cell will use the unseen `test_dataset` to check how well the model generalizes.\n",
        "\n",
        "To pass the challenge, `model.evaluate` must return a Mean Absolute Error of under 3500. This means it predicts health care costs correctly within $3500.\n",
        "\n",
        "The final cell will also predict expenses using the `test_dataset` and graph the results."
      ]
    },
    {
      "cell_type": "code",
      "metadata": {
        "id": "1rRo8oNqZ-Rj",
        "colab": {
          "base_uri": "https://localhost:8080/"
        },
        "outputId": "745fe237-8a0c-4d44-cac0-aaf3df60682b"
      },
      "source": [
        "# Import libraries. You may or may not use all of these.\n",
        "!pip install -q git+https://github.com/tensorflow/docs\n",
        "import matplotlib.pyplot as plt\n",
        "import numpy as np\n",
        "import pandas as pd\n",
        "\n",
        "try:\n",
        "  # %tensorflow_version only exists in Colab.\n",
        "  %tensorflow_version 2.x\n",
        "except Exception:\n",
        "  pass\n",
        "import tensorflow as tf\n",
        "\n",
        "from tensorflow import keras\n",
        "from tensorflow.keras import layers\n",
        "\n",
        "import tensorflow_docs as tfdocs\n",
        "import tensorflow_docs.plots\n",
        "import tensorflow_docs.modeling"
      ],
      "execution_count": 1,
      "outputs": [
        {
          "output_type": "stream",
          "name": "stdout",
          "text": [
            "  Building wheel for tensorflow-docs (setup.py) ... \u001b[?25l\u001b[?25hdone\n"
          ]
        }
      ]
    },
    {
      "cell_type": "code",
      "metadata": {
        "id": "CiX2FI4gZtTt",
        "colab": {
          "base_uri": "https://localhost:8080/",
          "height": 397
        },
        "outputId": "ce63c40f-1406-4c54-ff3d-280e43ad601e"
      },
      "source": [
        "# Import data\n",
        "!wget https://cdn.freecodecamp.org/project-data/health-costs/insurance.csv\n",
        "dataset = pd.read_csv('insurance.csv')\n",
        "dataset.tail()"
      ],
      "execution_count": 2,
      "outputs": [
        {
          "output_type": "stream",
          "name": "stdout",
          "text": [
            "--2021-12-10 09:34:11--  https://cdn.freecodecamp.org/project-data/health-costs/insurance.csv\n",
            "Resolving cdn.freecodecamp.org (cdn.freecodecamp.org)... 172.67.70.149, 104.26.3.33, 104.26.2.33, ...\n",
            "Connecting to cdn.freecodecamp.org (cdn.freecodecamp.org)|172.67.70.149|:443... connected.\n",
            "HTTP request sent, awaiting response... 200 OK\n",
            "Length: 50264 (49K) [text/csv]\n",
            "Saving to: ‘insurance.csv’\n",
            "\n",
            "insurance.csv       100%[===================>]  49.09K  --.-KB/s    in 0s      \n",
            "\n",
            "2021-12-10 09:34:12 (113 MB/s) - ‘insurance.csv’ saved [50264/50264]\n",
            "\n"
          ]
        },
        {
          "output_type": "execute_result",
          "data": {
            "text/html": [
              "<div>\n",
              "<style scoped>\n",
              "    .dataframe tbody tr th:only-of-type {\n",
              "        vertical-align: middle;\n",
              "    }\n",
              "\n",
              "    .dataframe tbody tr th {\n",
              "        vertical-align: top;\n",
              "    }\n",
              "\n",
              "    .dataframe thead th {\n",
              "        text-align: right;\n",
              "    }\n",
              "</style>\n",
              "<table border=\"1\" class=\"dataframe\">\n",
              "  <thead>\n",
              "    <tr style=\"text-align: right;\">\n",
              "      <th></th>\n",
              "      <th>age</th>\n",
              "      <th>sex</th>\n",
              "      <th>bmi</th>\n",
              "      <th>children</th>\n",
              "      <th>smoker</th>\n",
              "      <th>region</th>\n",
              "      <th>expenses</th>\n",
              "    </tr>\n",
              "  </thead>\n",
              "  <tbody>\n",
              "    <tr>\n",
              "      <th>1333</th>\n",
              "      <td>50</td>\n",
              "      <td>male</td>\n",
              "      <td>31.0</td>\n",
              "      <td>3</td>\n",
              "      <td>no</td>\n",
              "      <td>northwest</td>\n",
              "      <td>10600.55</td>\n",
              "    </tr>\n",
              "    <tr>\n",
              "      <th>1334</th>\n",
              "      <td>18</td>\n",
              "      <td>female</td>\n",
              "      <td>31.9</td>\n",
              "      <td>0</td>\n",
              "      <td>no</td>\n",
              "      <td>northeast</td>\n",
              "      <td>2205.98</td>\n",
              "    </tr>\n",
              "    <tr>\n",
              "      <th>1335</th>\n",
              "      <td>18</td>\n",
              "      <td>female</td>\n",
              "      <td>36.9</td>\n",
              "      <td>0</td>\n",
              "      <td>no</td>\n",
              "      <td>southeast</td>\n",
              "      <td>1629.83</td>\n",
              "    </tr>\n",
              "    <tr>\n",
              "      <th>1336</th>\n",
              "      <td>21</td>\n",
              "      <td>female</td>\n",
              "      <td>25.8</td>\n",
              "      <td>0</td>\n",
              "      <td>no</td>\n",
              "      <td>southwest</td>\n",
              "      <td>2007.95</td>\n",
              "    </tr>\n",
              "    <tr>\n",
              "      <th>1337</th>\n",
              "      <td>61</td>\n",
              "      <td>female</td>\n",
              "      <td>29.1</td>\n",
              "      <td>0</td>\n",
              "      <td>yes</td>\n",
              "      <td>northwest</td>\n",
              "      <td>29141.36</td>\n",
              "    </tr>\n",
              "  </tbody>\n",
              "</table>\n",
              "</div>"
            ],
            "text/plain": [
              "      age     sex   bmi  children smoker     region  expenses\n",
              "1333   50    male  31.0         3     no  northwest  10600.55\n",
              "1334   18  female  31.9         0     no  northeast   2205.98\n",
              "1335   18  female  36.9         0     no  southeast   1629.83\n",
              "1336   21  female  25.8         0     no  southwest   2007.95\n",
              "1337   61  female  29.1         0    yes  northwest  29141.36"
            ]
          },
          "metadata": {},
          "execution_count": 2
        }
      ]
    },
    {
      "cell_type": "code",
      "source": [
        "dataset.describe().transpose()"
      ],
      "metadata": {
        "id": "8zR8VsaMPai3",
        "colab": {
          "base_uri": "https://localhost:8080/",
          "height": 174
        },
        "outputId": "462aaf2f-7a69-4b5e-94fc-d84db2903c93"
      },
      "execution_count": 3,
      "outputs": [
        {
          "output_type": "execute_result",
          "data": {
            "text/html": [
              "<div>\n",
              "<style scoped>\n",
              "    .dataframe tbody tr th:only-of-type {\n",
              "        vertical-align: middle;\n",
              "    }\n",
              "\n",
              "    .dataframe tbody tr th {\n",
              "        vertical-align: top;\n",
              "    }\n",
              "\n",
              "    .dataframe thead th {\n",
              "        text-align: right;\n",
              "    }\n",
              "</style>\n",
              "<table border=\"1\" class=\"dataframe\">\n",
              "  <thead>\n",
              "    <tr style=\"text-align: right;\">\n",
              "      <th></th>\n",
              "      <th>count</th>\n",
              "      <th>mean</th>\n",
              "      <th>std</th>\n",
              "      <th>min</th>\n",
              "      <th>25%</th>\n",
              "      <th>50%</th>\n",
              "      <th>75%</th>\n",
              "      <th>max</th>\n",
              "    </tr>\n",
              "  </thead>\n",
              "  <tbody>\n",
              "    <tr>\n",
              "      <th>age</th>\n",
              "      <td>1338.0</td>\n",
              "      <td>39.207025</td>\n",
              "      <td>14.049960</td>\n",
              "      <td>18.00</td>\n",
              "      <td>27.0000</td>\n",
              "      <td>39.00</td>\n",
              "      <td>51.000</td>\n",
              "      <td>64.00</td>\n",
              "    </tr>\n",
              "    <tr>\n",
              "      <th>bmi</th>\n",
              "      <td>1338.0</td>\n",
              "      <td>30.665471</td>\n",
              "      <td>6.098382</td>\n",
              "      <td>16.00</td>\n",
              "      <td>26.3000</td>\n",
              "      <td>30.40</td>\n",
              "      <td>34.700</td>\n",
              "      <td>53.10</td>\n",
              "    </tr>\n",
              "    <tr>\n",
              "      <th>children</th>\n",
              "      <td>1338.0</td>\n",
              "      <td>1.094918</td>\n",
              "      <td>1.205493</td>\n",
              "      <td>0.00</td>\n",
              "      <td>0.0000</td>\n",
              "      <td>1.00</td>\n",
              "      <td>2.000</td>\n",
              "      <td>5.00</td>\n",
              "    </tr>\n",
              "    <tr>\n",
              "      <th>expenses</th>\n",
              "      <td>1338.0</td>\n",
              "      <td>13270.422414</td>\n",
              "      <td>12110.011240</td>\n",
              "      <td>1121.87</td>\n",
              "      <td>4740.2875</td>\n",
              "      <td>9382.03</td>\n",
              "      <td>16639.915</td>\n",
              "      <td>63770.43</td>\n",
              "    </tr>\n",
              "  </tbody>\n",
              "</table>\n",
              "</div>"
            ],
            "text/plain": [
              "           count          mean           std  ...      50%        75%       max\n",
              "age       1338.0     39.207025     14.049960  ...    39.00     51.000     64.00\n",
              "bmi       1338.0     30.665471      6.098382  ...    30.40     34.700     53.10\n",
              "children  1338.0      1.094918      1.205493  ...     1.00      2.000      5.00\n",
              "expenses  1338.0  13270.422414  12110.011240  ...  9382.03  16639.915  63770.43\n",
              "\n",
              "[4 rows x 8 columns]"
            ]
          },
          "metadata": {},
          "execution_count": 3
        }
      ]
    },
    {
      "cell_type": "code",
      "source": [
        "dataset.shape"
      ],
      "metadata": {
        "id": "5RQajoSPPac3",
        "colab": {
          "base_uri": "https://localhost:8080/"
        },
        "outputId": "d5ad7732-1482-44d1-86a5-bc8e1ddd61ae"
      },
      "execution_count": 4,
      "outputs": [
        {
          "output_type": "execute_result",
          "data": {
            "text/plain": [
              "(1338, 7)"
            ]
          },
          "metadata": {},
          "execution_count": 4
        }
      ]
    },
    {
      "cell_type": "code",
      "source": [
        "dataset.dtypes"
      ],
      "metadata": {
        "id": "bSIlPg5fPaZ4",
        "colab": {
          "base_uri": "https://localhost:8080/"
        },
        "outputId": "fb93c1ba-b134-447c-c8d9-3a07c7076b1d"
      },
      "execution_count": 5,
      "outputs": [
        {
          "output_type": "execute_result",
          "data": {
            "text/plain": [
              "age           int64\n",
              "sex          object\n",
              "bmi         float64\n",
              "children      int64\n",
              "smoker       object\n",
              "region       object\n",
              "expenses    float64\n",
              "dtype: object"
            ]
          },
          "metadata": {},
          "execution_count": 5
        }
      ]
    },
    {
      "cell_type": "code",
      "source": [
        "#Defining the categorical and numeric columns\n",
        "\n",
        "CATEGORICAL_COLUMNS = ['sex', 'smoker', 'region']\n",
        "NUMERIC_COLUMNS = ['age', 'bmi', 'children', 'expenses']"
      ],
      "metadata": {
        "id": "aNqRnPVoWRcx"
      },
      "execution_count": 6,
      "outputs": []
    },
    {
      "cell_type": "code",
      "source": [
        "#Creating a df only with the categorical columns\n",
        "dataset_encoded = dataset.copy()\n",
        "dataset_categorical =  dataset_encoded.drop(NUMERIC_COLUMNS, axis=1)"
      ],
      "metadata": {
        "id": "h2uxks9bWRRo"
      },
      "execution_count": 7,
      "outputs": []
    },
    {
      "cell_type": "code",
      "metadata": {
        "id": "LcopvQh3X-kX",
        "colab": {
          "base_uri": "https://localhost:8080/",
          "height": 206
        },
        "outputId": "a9bccaad-3fe8-4a23-a53a-937fd6aed3e9"
      },
      "source": [
        "dataset_categorical.head()"
      ],
      "execution_count": 8,
      "outputs": [
        {
          "output_type": "execute_result",
          "data": {
            "text/html": [
              "<div>\n",
              "<style scoped>\n",
              "    .dataframe tbody tr th:only-of-type {\n",
              "        vertical-align: middle;\n",
              "    }\n",
              "\n",
              "    .dataframe tbody tr th {\n",
              "        vertical-align: top;\n",
              "    }\n",
              "\n",
              "    .dataframe thead th {\n",
              "        text-align: right;\n",
              "    }\n",
              "</style>\n",
              "<table border=\"1\" class=\"dataframe\">\n",
              "  <thead>\n",
              "    <tr style=\"text-align: right;\">\n",
              "      <th></th>\n",
              "      <th>sex</th>\n",
              "      <th>smoker</th>\n",
              "      <th>region</th>\n",
              "    </tr>\n",
              "  </thead>\n",
              "  <tbody>\n",
              "    <tr>\n",
              "      <th>0</th>\n",
              "      <td>female</td>\n",
              "      <td>yes</td>\n",
              "      <td>southwest</td>\n",
              "    </tr>\n",
              "    <tr>\n",
              "      <th>1</th>\n",
              "      <td>male</td>\n",
              "      <td>no</td>\n",
              "      <td>southeast</td>\n",
              "    </tr>\n",
              "    <tr>\n",
              "      <th>2</th>\n",
              "      <td>male</td>\n",
              "      <td>no</td>\n",
              "      <td>southeast</td>\n",
              "    </tr>\n",
              "    <tr>\n",
              "      <th>3</th>\n",
              "      <td>male</td>\n",
              "      <td>no</td>\n",
              "      <td>northwest</td>\n",
              "    </tr>\n",
              "    <tr>\n",
              "      <th>4</th>\n",
              "      <td>male</td>\n",
              "      <td>no</td>\n",
              "      <td>northwest</td>\n",
              "    </tr>\n",
              "  </tbody>\n",
              "</table>\n",
              "</div>"
            ],
            "text/plain": [
              "      sex smoker     region\n",
              "0  female    yes  southwest\n",
              "1    male     no  southeast\n",
              "2    male     no  southeast\n",
              "3    male     no  northwest\n",
              "4    male     no  northwest"
            ]
          },
          "metadata": {},
          "execution_count": 8
        }
      ]
    },
    {
      "cell_type": "code",
      "source": [
        "dataset_categorical.shape"
      ],
      "metadata": {
        "id": "mFgl2DxIXa-D",
        "colab": {
          "base_uri": "https://localhost:8080/"
        },
        "outputId": "86c4ccd3-a70e-4e6c-bb84-1adb03af41d2"
      },
      "execution_count": 9,
      "outputs": [
        {
          "output_type": "execute_result",
          "data": {
            "text/plain": [
              "(1338, 3)"
            ]
          },
          "metadata": {},
          "execution_count": 9
        }
      ]
    },
    {
      "cell_type": "code",
      "source": [
        "from sklearn.preprocessing import OrdinalEncoder\n",
        "\n",
        "# prepare input data\n",
        "#function to encode our categorical data\n",
        "def prepare_inputs(data_set):\n",
        "\toe = OrdinalEncoder()\n",
        "\toe.fit(data_set)\n",
        "\tX_dataset_enc = oe.transform(data_set)\n",
        "\treturn X_dataset_enc\n",
        "\n",
        "dataset_enc = prepare_inputs(dataset_categorical)\n",
        "\n",
        "#it returns a numpy array with the same shape from our original dataframe\n",
        "print(dataset_enc.shape)"
      ],
      "metadata": {
        "id": "bXASN8NTW09-",
        "colab": {
          "base_uri": "https://localhost:8080/"
        },
        "outputId": "aec48fa3-f295-43ac-ae0e-eec2fd199960"
      },
      "execution_count": 10,
      "outputs": [
        {
          "output_type": "stream",
          "name": "stdout",
          "text": [
            "(1338, 3)\n"
          ]
        }
      ]
    },
    {
      "cell_type": "code",
      "source": [
        "#Creating a DataFrame with the new encoded data.\n",
        "dataset_enc = pd.DataFrame(dataset_enc, columns = CATEGORICAL_COLUMNS)"
      ],
      "metadata": {
        "id": "pN1RyJeSW07L"
      },
      "execution_count": 11,
      "outputs": []
    },
    {
      "cell_type": "code",
      "source": [
        "dataset_enc.head()"
      ],
      "metadata": {
        "id": "qD-JeBQRW04e",
        "colab": {
          "base_uri": "https://localhost:8080/",
          "height": 206
        },
        "outputId": "1c11ccf1-e3e7-462c-c0b1-9a60a00c2860"
      },
      "execution_count": 12,
      "outputs": [
        {
          "output_type": "execute_result",
          "data": {
            "text/html": [
              "<div>\n",
              "<style scoped>\n",
              "    .dataframe tbody tr th:only-of-type {\n",
              "        vertical-align: middle;\n",
              "    }\n",
              "\n",
              "    .dataframe tbody tr th {\n",
              "        vertical-align: top;\n",
              "    }\n",
              "\n",
              "    .dataframe thead th {\n",
              "        text-align: right;\n",
              "    }\n",
              "</style>\n",
              "<table border=\"1\" class=\"dataframe\">\n",
              "  <thead>\n",
              "    <tr style=\"text-align: right;\">\n",
              "      <th></th>\n",
              "      <th>sex</th>\n",
              "      <th>smoker</th>\n",
              "      <th>region</th>\n",
              "    </tr>\n",
              "  </thead>\n",
              "  <tbody>\n",
              "    <tr>\n",
              "      <th>0</th>\n",
              "      <td>0.0</td>\n",
              "      <td>1.0</td>\n",
              "      <td>3.0</td>\n",
              "    </tr>\n",
              "    <tr>\n",
              "      <th>1</th>\n",
              "      <td>1.0</td>\n",
              "      <td>0.0</td>\n",
              "      <td>2.0</td>\n",
              "    </tr>\n",
              "    <tr>\n",
              "      <th>2</th>\n",
              "      <td>1.0</td>\n",
              "      <td>0.0</td>\n",
              "      <td>2.0</td>\n",
              "    </tr>\n",
              "    <tr>\n",
              "      <th>3</th>\n",
              "      <td>1.0</td>\n",
              "      <td>0.0</td>\n",
              "      <td>1.0</td>\n",
              "    </tr>\n",
              "    <tr>\n",
              "      <th>4</th>\n",
              "      <td>1.0</td>\n",
              "      <td>0.0</td>\n",
              "      <td>1.0</td>\n",
              "    </tr>\n",
              "  </tbody>\n",
              "</table>\n",
              "</div>"
            ],
            "text/plain": [
              "   sex  smoker  region\n",
              "0  0.0     1.0     3.0\n",
              "1  1.0     0.0     2.0\n",
              "2  1.0     0.0     2.0\n",
              "3  1.0     0.0     1.0\n",
              "4  1.0     0.0     1.0"
            ]
          },
          "metadata": {},
          "execution_count": 12
        }
      ]
    },
    {
      "cell_type": "code",
      "source": [
        "#Assigning the encoded values to the original data frame\n",
        "dataset_encoded[CATEGORICAL_COLUMNS] = dataset_enc"
      ],
      "metadata": {
        "id": "RM0J5Cc8W01o"
      },
      "execution_count": 13,
      "outputs": []
    },
    {
      "cell_type": "code",
      "source": [
        "dataset_encoded.head()"
      ],
      "metadata": {
        "id": "EL44YS_nX_Zj",
        "colab": {
          "base_uri": "https://localhost:8080/",
          "height": 206
        },
        "outputId": "938d280e-a403-454c-c511-b80c67d9b988"
      },
      "execution_count": 14,
      "outputs": [
        {
          "output_type": "execute_result",
          "data": {
            "text/html": [
              "<div>\n",
              "<style scoped>\n",
              "    .dataframe tbody tr th:only-of-type {\n",
              "        vertical-align: middle;\n",
              "    }\n",
              "\n",
              "    .dataframe tbody tr th {\n",
              "        vertical-align: top;\n",
              "    }\n",
              "\n",
              "    .dataframe thead th {\n",
              "        text-align: right;\n",
              "    }\n",
              "</style>\n",
              "<table border=\"1\" class=\"dataframe\">\n",
              "  <thead>\n",
              "    <tr style=\"text-align: right;\">\n",
              "      <th></th>\n",
              "      <th>age</th>\n",
              "      <th>sex</th>\n",
              "      <th>bmi</th>\n",
              "      <th>children</th>\n",
              "      <th>smoker</th>\n",
              "      <th>region</th>\n",
              "      <th>expenses</th>\n",
              "    </tr>\n",
              "  </thead>\n",
              "  <tbody>\n",
              "    <tr>\n",
              "      <th>0</th>\n",
              "      <td>19</td>\n",
              "      <td>0.0</td>\n",
              "      <td>27.9</td>\n",
              "      <td>0</td>\n",
              "      <td>1.0</td>\n",
              "      <td>3.0</td>\n",
              "      <td>16884.92</td>\n",
              "    </tr>\n",
              "    <tr>\n",
              "      <th>1</th>\n",
              "      <td>18</td>\n",
              "      <td>1.0</td>\n",
              "      <td>33.8</td>\n",
              "      <td>1</td>\n",
              "      <td>0.0</td>\n",
              "      <td>2.0</td>\n",
              "      <td>1725.55</td>\n",
              "    </tr>\n",
              "    <tr>\n",
              "      <th>2</th>\n",
              "      <td>28</td>\n",
              "      <td>1.0</td>\n",
              "      <td>33.0</td>\n",
              "      <td>3</td>\n",
              "      <td>0.0</td>\n",
              "      <td>2.0</td>\n",
              "      <td>4449.46</td>\n",
              "    </tr>\n",
              "    <tr>\n",
              "      <th>3</th>\n",
              "      <td>33</td>\n",
              "      <td>1.0</td>\n",
              "      <td>22.7</td>\n",
              "      <td>0</td>\n",
              "      <td>0.0</td>\n",
              "      <td>1.0</td>\n",
              "      <td>21984.47</td>\n",
              "    </tr>\n",
              "    <tr>\n",
              "      <th>4</th>\n",
              "      <td>32</td>\n",
              "      <td>1.0</td>\n",
              "      <td>28.9</td>\n",
              "      <td>0</td>\n",
              "      <td>0.0</td>\n",
              "      <td>1.0</td>\n",
              "      <td>3866.86</td>\n",
              "    </tr>\n",
              "  </tbody>\n",
              "</table>\n",
              "</div>"
            ],
            "text/plain": [
              "   age  sex   bmi  children  smoker  region  expenses\n",
              "0   19  0.0  27.9         0     1.0     3.0  16884.92\n",
              "1   18  1.0  33.8         1     0.0     2.0   1725.55\n",
              "2   28  1.0  33.0         3     0.0     2.0   4449.46\n",
              "3   33  1.0  22.7         0     0.0     1.0  21984.47\n",
              "4   32  1.0  28.9         0     0.0     1.0   3866.86"
            ]
          },
          "metadata": {},
          "execution_count": 14
        }
      ]
    },
    {
      "cell_type": "code",
      "source": [
        "dataset.head()"
      ],
      "metadata": {
        "id": "wrKLvHm8n7aS",
        "colab": {
          "base_uri": "https://localhost:8080/",
          "height": 206
        },
        "outputId": "79af6f51-f04d-4a81-e2e9-b563ec61ca69"
      },
      "execution_count": 15,
      "outputs": [
        {
          "output_type": "execute_result",
          "data": {
            "text/html": [
              "<div>\n",
              "<style scoped>\n",
              "    .dataframe tbody tr th:only-of-type {\n",
              "        vertical-align: middle;\n",
              "    }\n",
              "\n",
              "    .dataframe tbody tr th {\n",
              "        vertical-align: top;\n",
              "    }\n",
              "\n",
              "    .dataframe thead th {\n",
              "        text-align: right;\n",
              "    }\n",
              "</style>\n",
              "<table border=\"1\" class=\"dataframe\">\n",
              "  <thead>\n",
              "    <tr style=\"text-align: right;\">\n",
              "      <th></th>\n",
              "      <th>age</th>\n",
              "      <th>sex</th>\n",
              "      <th>bmi</th>\n",
              "      <th>children</th>\n",
              "      <th>smoker</th>\n",
              "      <th>region</th>\n",
              "      <th>expenses</th>\n",
              "    </tr>\n",
              "  </thead>\n",
              "  <tbody>\n",
              "    <tr>\n",
              "      <th>0</th>\n",
              "      <td>19</td>\n",
              "      <td>female</td>\n",
              "      <td>27.9</td>\n",
              "      <td>0</td>\n",
              "      <td>yes</td>\n",
              "      <td>southwest</td>\n",
              "      <td>16884.92</td>\n",
              "    </tr>\n",
              "    <tr>\n",
              "      <th>1</th>\n",
              "      <td>18</td>\n",
              "      <td>male</td>\n",
              "      <td>33.8</td>\n",
              "      <td>1</td>\n",
              "      <td>no</td>\n",
              "      <td>southeast</td>\n",
              "      <td>1725.55</td>\n",
              "    </tr>\n",
              "    <tr>\n",
              "      <th>2</th>\n",
              "      <td>28</td>\n",
              "      <td>male</td>\n",
              "      <td>33.0</td>\n",
              "      <td>3</td>\n",
              "      <td>no</td>\n",
              "      <td>southeast</td>\n",
              "      <td>4449.46</td>\n",
              "    </tr>\n",
              "    <tr>\n",
              "      <th>3</th>\n",
              "      <td>33</td>\n",
              "      <td>male</td>\n",
              "      <td>22.7</td>\n",
              "      <td>0</td>\n",
              "      <td>no</td>\n",
              "      <td>northwest</td>\n",
              "      <td>21984.47</td>\n",
              "    </tr>\n",
              "    <tr>\n",
              "      <th>4</th>\n",
              "      <td>32</td>\n",
              "      <td>male</td>\n",
              "      <td>28.9</td>\n",
              "      <td>0</td>\n",
              "      <td>no</td>\n",
              "      <td>northwest</td>\n",
              "      <td>3866.86</td>\n",
              "    </tr>\n",
              "  </tbody>\n",
              "</table>\n",
              "</div>"
            ],
            "text/plain": [
              "   age     sex   bmi  children smoker     region  expenses\n",
              "0   19  female  27.9         0    yes  southwest  16884.92\n",
              "1   18    male  33.8         1     no  southeast   1725.55\n",
              "2   28    male  33.0         3     no  southeast   4449.46\n",
              "3   33    male  22.7         0     no  northwest  21984.47\n",
              "4   32    male  28.9         0     no  northwest   3866.86"
            ]
          },
          "metadata": {},
          "execution_count": 15
        }
      ]
    },
    {
      "cell_type": "code",
      "source": [
        "#Spliting the data (80% training and 20% testing)\n",
        "train_dataset = dataset_encoded.sample(frac=0.8)\n",
        "test_dataset = dataset_encoded.drop(train_dataset.index)\n",
        "\n",
        "#Poping the 'expenses' column\n",
        "train_labels = train_dataset.pop('expenses')\n",
        "test_labels = test_dataset.pop('expenses')"
      ],
      "metadata": {
        "id": "aJT6PYLoX_XC"
      },
      "execution_count": 16,
      "outputs": []
    },
    {
      "cell_type": "code",
      "source": [
        "train_dataset.head()"
      ],
      "metadata": {
        "id": "K9TIkMQWX_UT",
        "colab": {
          "base_uri": "https://localhost:8080/",
          "height": 206
        },
        "outputId": "5b81ad11-0197-4fc5-f8a9-365c27244f24"
      },
      "execution_count": 17,
      "outputs": [
        {
          "output_type": "execute_result",
          "data": {
            "text/html": [
              "<div>\n",
              "<style scoped>\n",
              "    .dataframe tbody tr th:only-of-type {\n",
              "        vertical-align: middle;\n",
              "    }\n",
              "\n",
              "    .dataframe tbody tr th {\n",
              "        vertical-align: top;\n",
              "    }\n",
              "\n",
              "    .dataframe thead th {\n",
              "        text-align: right;\n",
              "    }\n",
              "</style>\n",
              "<table border=\"1\" class=\"dataframe\">\n",
              "  <thead>\n",
              "    <tr style=\"text-align: right;\">\n",
              "      <th></th>\n",
              "      <th>age</th>\n",
              "      <th>sex</th>\n",
              "      <th>bmi</th>\n",
              "      <th>children</th>\n",
              "      <th>smoker</th>\n",
              "      <th>region</th>\n",
              "    </tr>\n",
              "  </thead>\n",
              "  <tbody>\n",
              "    <tr>\n",
              "      <th>736</th>\n",
              "      <td>37</td>\n",
              "      <td>0.0</td>\n",
              "      <td>38.4</td>\n",
              "      <td>0</td>\n",
              "      <td>1.0</td>\n",
              "      <td>2.0</td>\n",
              "    </tr>\n",
              "    <tr>\n",
              "      <th>789</th>\n",
              "      <td>62</td>\n",
              "      <td>0.0</td>\n",
              "      <td>29.9</td>\n",
              "      <td>0</td>\n",
              "      <td>0.0</td>\n",
              "      <td>2.0</td>\n",
              "    </tr>\n",
              "    <tr>\n",
              "      <th>1215</th>\n",
              "      <td>18</td>\n",
              "      <td>1.0</td>\n",
              "      <td>39.1</td>\n",
              "      <td>0</td>\n",
              "      <td>0.0</td>\n",
              "      <td>0.0</td>\n",
              "    </tr>\n",
              "    <tr>\n",
              "      <th>536</th>\n",
              "      <td>33</td>\n",
              "      <td>0.0</td>\n",
              "      <td>38.9</td>\n",
              "      <td>3</td>\n",
              "      <td>0.0</td>\n",
              "      <td>3.0</td>\n",
              "    </tr>\n",
              "    <tr>\n",
              "      <th>1101</th>\n",
              "      <td>53</td>\n",
              "      <td>1.0</td>\n",
              "      <td>28.6</td>\n",
              "      <td>3</td>\n",
              "      <td>0.0</td>\n",
              "      <td>3.0</td>\n",
              "    </tr>\n",
              "  </tbody>\n",
              "</table>\n",
              "</div>"
            ],
            "text/plain": [
              "      age  sex   bmi  children  smoker  region\n",
              "736    37  0.0  38.4         0     1.0     2.0\n",
              "789    62  0.0  29.9         0     0.0     2.0\n",
              "1215   18  1.0  39.1         0     0.0     0.0\n",
              "536    33  0.0  38.9         3     0.0     3.0\n",
              "1101   53  1.0  28.6         3     0.0     3.0"
            ]
          },
          "metadata": {},
          "execution_count": 17
        }
      ]
    },
    {
      "cell_type": "code",
      "source": [
        "print(train_dataset.shape)\n",
        "print(test_dataset.shape)\n",
        "print(train_labels.shape)\n",
        "print(test_labels.shape)"
      ],
      "metadata": {
        "id": "HP5hmtRwYb93",
        "colab": {
          "base_uri": "https://localhost:8080/"
        },
        "outputId": "a93ccf48-6acf-4cfb-ac6f-a11b972a1b49"
      },
      "execution_count": 18,
      "outputs": [
        {
          "output_type": "stream",
          "name": "stdout",
          "text": [
            "(1070, 6)\n",
            "(268, 6)\n",
            "(1070,)\n",
            "(268,)\n"
          ]
        }
      ]
    },
    {
      "cell_type": "code",
      "source": [
        "#Building the model\n",
        "\n",
        "model = tf.keras.Sequential()\n",
        "model.add(layers.Dense(24, activation='relu', input_shape=(6,))) #24 nodes and 6 inputs as we have 6 columns of features.\n",
        "model.add(layers.Dense(32, activation='relu'))\n",
        "model.add(layers.Dense(1)) #1 node and no activation function, because we want to predict the continuous numerical value (expenses)"
      ],
      "metadata": {
        "id": "Bq2F40x5Y0kU"
      },
      "execution_count": 19,
      "outputs": []
    },
    {
      "cell_type": "code",
      "source": [
        "model.summary()"
      ],
      "metadata": {
        "id": "FbmK854uY0h5",
        "colab": {
          "base_uri": "https://localhost:8080/"
        },
        "outputId": "d71515fd-da71-455d-eeee-e84b7e1dd26a"
      },
      "execution_count": 20,
      "outputs": [
        {
          "output_type": "stream",
          "name": "stdout",
          "text": [
            "Model: \"sequential\"\n",
            "_________________________________________________________________\n",
            " Layer (type)                Output Shape              Param #   \n",
            "=================================================================\n",
            " dense (Dense)               (None, 24)                168       \n",
            "                                                                 \n",
            " dense_1 (Dense)             (None, 32)                800       \n",
            "                                                                 \n",
            " dense_2 (Dense)             (None, 1)                 33        \n",
            "                                                                 \n",
            "=================================================================\n",
            "Total params: 1,001\n",
            "Trainable params: 1,001\n",
            "Non-trainable params: 0\n",
            "_________________________________________________________________\n"
          ]
        }
      ]
    },
    {
      "cell_type": "code",
      "source": [
        "#Compile the model:\n",
        "# Configure the network with optimizer, loss function and accuracy\n",
        "\n",
        "model.compile(optimizer=tf.optimizers.Adam(learning_rate=0.1),\n",
        "                loss='mean_absolute_error',\n",
        "                metrics=['mae', 'mse']\n",
        "              )"
      ],
      "metadata": {
        "id": "RBpHhexnY0fM"
      },
      "execution_count": 21,
      "outputs": []
    },
    {
      "cell_type": "code",
      "source": [
        "#Training the model\n",
        "\n",
        "history = model.fit(train_dataset, train_labels,\n",
        "                      validation_data = (test_dataset, test_labels),\n",
        "                      epochs=100,\n",
        "                      batch_size=20)\n",
        "\n",
        "#The output of the training is a history object which records the loss and accuracy metric after each epoch.\n",
        "#The loss and accuracy metric (mae) is measured for training and validation data set after each epoch."
      ],
      "metadata": {
        "id": "Mhv94QumY0cc"
      },
      "execution_count": null,
      "outputs": []
    },
    {
      "cell_type": "code",
      "source": [
        "history_dict = history.history\n",
        "print(history_dict)"
      ],
      "metadata": {
        "id": "AU8MdO-4dphA",
        "colab": {
          "base_uri": "https://localhost:8080/"
        },
        "outputId": "4efa7782-b74b-4b54-a7c0-f277c43a399b"
      },
      "execution_count": 23,
      "outputs": [
        {
          "output_type": "stream",
          "name": "stdout",
          "text": [
            "{'loss': [8959.166015625, 6887.375, 6344.73046875, 5373.47314453125, 4101.18896484375, 3906.0244140625, 3687.11474609375, 3806.950439453125, 3883.643798828125, 3758.2216796875, 3521.369873046875, 3743.790771484375, 3486.0576171875, 3764.296142578125, 3429.931884765625, 3332.954345703125, 3401.3798828125, 3343.224853515625, 3383.39697265625, 3314.210205078125, 3685.29736328125, 3262.02001953125, 3333.36474609375, 3287.736328125, 3229.29736328125, 3192.01708984375, 3251.6494140625, 3156.147705078125, 3251.956298828125, 3251.07568359375, 3314.52294921875, 3094.9208984375, 3099.487548828125, 3063.681396484375, 3116.42138671875, 3204.9375, 3185.15185546875, 3078.67236328125, 3033.871337890625, 2944.236328125, 2828.265380859375, 3085.55224609375, 2740.215576171875, 2885.499755859375, 2884.891357421875, 2747.470947265625, 2677.449462890625, 2614.715576171875, 2547.434326171875, 2600.948486328125, 2584.719482421875, 2647.6455078125, 2715.676513671875, 3230.285888671875, 2769.53173828125, 2617.661865234375, 2716.4443359375, 2400.766357421875, 2552.327880859375, 3196.257080078125, 2463.2177734375, 2777.4736328125, 2438.25927734375, 2455.02783203125, 2914.6513671875, 2599.052001953125, 2527.341796875, 2560.60498046875, 2540.798095703125, 2587.14013671875, 2545.37353515625, 2629.736572265625, 2500.2060546875, 2403.473876953125, 2501.834228515625, 2831.60693359375, 2699.783935546875, 2533.1533203125, 2394.399658203125, 2385.195068359375, 2441.326171875, 2329.363037109375, 2328.710205078125, 2327.7099609375, 2355.803955078125, 2472.61083984375, 2412.36328125, 2974.022216796875, 2279.415771484375, 2732.992919921875, 2374.25927734375, 2784.7373046875, 2482.868408203125, 2506.629638671875, 2624.1025390625, 2535.481201171875, 2505.906982421875, 2693.145751953125, 2550.96728515625, 2557.086669921875], 'mae': [8959.166015625, 6887.375, 6344.73046875, 5373.47314453125, 4101.18896484375, 3906.0244140625, 3687.11474609375, 3806.950439453125, 3883.643798828125, 3758.2216796875, 3521.369873046875, 3743.790771484375, 3486.05712890625, 3764.296142578125, 3429.931884765625, 3332.954345703125, 3401.380126953125, 3343.224853515625, 3383.39697265625, 3314.210205078125, 3685.29736328125, 3262.02001953125, 3333.364501953125, 3287.736328125, 3229.29736328125, 3192.01708984375, 3251.6494140625, 3156.1474609375, 3251.956298828125, 3251.07568359375, 3314.52294921875, 3094.9208984375, 3099.487548828125, 3063.681396484375, 3116.42138671875, 3204.9375, 3185.152099609375, 3078.67236328125, 3033.871337890625, 2944.236328125, 2828.265380859375, 3085.55224609375, 2740.215576171875, 2885.499755859375, 2884.891357421875, 2747.47119140625, 2677.448974609375, 2614.715576171875, 2547.434326171875, 2600.948486328125, 2584.719482421875, 2647.6455078125, 2715.676513671875, 3230.285888671875, 2769.53173828125, 2617.661865234375, 2716.4443359375, 2400.766357421875, 2552.327880859375, 3196.257080078125, 2463.2177734375, 2777.473876953125, 2438.25927734375, 2455.02783203125, 2914.6513671875, 2599.052001953125, 2527.341796875, 2560.60498046875, 2540.798095703125, 2587.140625, 2545.373779296875, 2629.736572265625, 2500.2060546875, 2403.47412109375, 2501.834228515625, 2831.60693359375, 2699.783935546875, 2533.1533203125, 2394.399658203125, 2385.195068359375, 2441.326171875, 2329.363037109375, 2328.710205078125, 2327.7099609375, 2355.803955078125, 2472.61083984375, 2412.36328125, 2974.022216796875, 2279.415771484375, 2732.992919921875, 2374.25927734375, 2784.7373046875, 2482.868408203125, 2506.6298828125, 2624.1025390625, 2535.481201171875, 2505.906982421875, 2693.145751953125, 2550.96728515625, 2557.086669921875], 'mse': [193749984.0, 154393616.0, 146186560.0, 105358168.0, 61158336.0, 45864380.0, 43432076.0, 42071048.0, 44247252.0, 42481676.0, 42785320.0, 46695044.0, 41999944.0, 46890972.0, 40612596.0, 40807200.0, 42037872.0, 39527948.0, 42131468.0, 41225400.0, 41225368.0, 38984420.0, 41944432.0, 39310988.0, 39491032.0, 38666776.0, 39357356.0, 37264156.0, 38025748.0, 37418440.0, 38209360.0, 36121476.0, 36992788.0, 36341536.0, 36967340.0, 39253392.0, 37138252.0, 34620824.0, 33229722.0, 33464316.0, 33094482.0, 35392616.0, 32101810.0, 32101542.0, 32165114.0, 31823774.0, 31058268.0, 30971624.0, 28006636.0, 29592094.0, 28945302.0, 29406776.0, 30433112.0, 38664408.0, 31421398.0, 29372892.0, 31206656.0, 27338490.0, 27988800.0, 35172732.0, 26508996.0, 33109518.0, 27876802.0, 27905528.0, 31364490.0, 28951676.0, 29228204.0, 27912510.0, 28239424.0, 28910910.0, 29847838.0, 27976798.0, 28562142.0, 27125440.0, 28305416.0, 30727274.0, 28743686.0, 28075968.0, 26166998.0, 27951496.0, 27744868.0, 26437804.0, 25957970.0, 25880850.0, 25757620.0, 27432932.0, 28062386.0, 32088648.0, 26210940.0, 29643200.0, 26208304.0, 31080522.0, 27491572.0, 26850062.0, 30644878.0, 26827888.0, 26830172.0, 29258872.0, 27913350.0, 27368364.0], 'val_loss': [7047.3505859375, 5839.34326171875, 5425.07373046875, 4833.92724609375, 3505.797119140625, 3348.786376953125, 3386.7783203125, 3008.617431640625, 3465.96337890625, 3338.488525390625, 2975.67529296875, 3064.4375, 3639.417724609375, 3038.609130859375, 2954.712158203125, 2846.216064453125, 3351.7607421875, 2951.485595703125, 2893.494140625, 2835.57177734375, 3078.183837890625, 2798.923583984375, 3165.1591796875, 2924.1328125, 3260.509765625, 2819.887451171875, 2774.71337890625, 2956.3388671875, 2790.37158203125, 3448.49609375, 2645.62353515625, 2729.97900390625, 2813.951171875, 2773.860595703125, 3356.149169921875, 2795.71142578125, 2594.62890625, 3047.232177734375, 2669.450439453125, 2620.882080078125, 2441.829833984375, 3027.92236328125, 2837.45068359375, 2807.7734375, 2498.83447265625, 2359.1591796875, 2689.9013671875, 2264.304931640625, 2299.641357421875, 2604.989990234375, 2882.128173828125, 2515.77197265625, 3040.496826171875, 2466.75634765625, 2300.92431640625, 2684.0830078125, 2306.54736328125, 2220.244873046875, 2813.464111328125, 2432.12255859375, 2334.9287109375, 2865.08251953125, 2360.06787109375, 2277.51220703125, 2793.6220703125, 2215.098876953125, 2524.345703125, 2388.069091796875, 2532.521728515625, 2425.165283203125, 3252.51318359375, 2664.329345703125, 2538.105712890625, 2372.755859375, 3030.10888671875, 2706.3046875, 3334.817138671875, 2205.177001953125, 2403.9990234375, 2465.636474609375, 2305.960205078125, 2350.07080078125, 2398.603759765625, 2405.885009765625, 2449.5302734375, 2644.641845703125, 2882.633056640625, 2197.978515625, 2185.2490234375, 2946.710693359375, 2499.080322265625, 2826.178955078125, 2270.280029296875, 2334.367919921875, 2425.08837890625, 2562.650146484375, 2298.29443359375, 2365.585693359375, 2591.635498046875, 2504.044189453125], 'val_mae': [7047.3505859375, 5839.34326171875, 5425.0732421875, 4833.92724609375, 3505.797119140625, 3348.786376953125, 3386.7783203125, 3008.617431640625, 3465.96337890625, 3338.48876953125, 2975.67529296875, 3064.4375, 3639.417724609375, 3038.609130859375, 2954.712158203125, 2846.216064453125, 3351.7607421875, 2951.485595703125, 2893.494140625, 2835.57177734375, 3078.183837890625, 2798.923583984375, 3165.1591796875, 2924.1328125, 3260.509765625, 2819.887451171875, 2774.71337890625, 2956.3388671875, 2790.37158203125, 3448.49609375, 2645.62353515625, 2729.97900390625, 2813.951171875, 2773.860595703125, 3356.149169921875, 2795.71142578125, 2594.62890625, 3047.232177734375, 2669.450439453125, 2620.882080078125, 2441.829833984375, 3027.92236328125, 2837.45068359375, 2807.7734375, 2498.83447265625, 2359.159423828125, 2689.9013671875, 2264.304931640625, 2299.641357421875, 2604.989990234375, 2882.128173828125, 2515.77197265625, 3040.496826171875, 2466.75634765625, 2300.92431640625, 2684.0830078125, 2306.54736328125, 2220.244873046875, 2813.464111328125, 2432.12255859375, 2334.9287109375, 2865.08251953125, 2360.06787109375, 2277.51220703125, 2793.622314453125, 2215.098876953125, 2524.345703125, 2388.069091796875, 2532.52197265625, 2425.165283203125, 3252.51318359375, 2664.329345703125, 2538.105712890625, 2372.755859375, 3030.10888671875, 2706.3046875, 3334.817138671875, 2205.177001953125, 2403.9990234375, 2465.636474609375, 2305.960205078125, 2350.07080078125, 2398.603759765625, 2405.885009765625, 2449.5302734375, 2644.641845703125, 2882.633056640625, 2197.978515625, 2185.2490234375, 2946.710693359375, 2499.080322265625, 2826.17919921875, 2270.280029296875, 2334.367919921875, 2425.08837890625, 2562.650146484375, 2298.29443359375, 2365.585693359375, 2591.635498046875, 2504.0439453125], 'val_mse': [127717776.0, 144952656.0, 113127048.0, 58601076.0, 50045668.0, 42529064.0, 37853668.0, 38563164.0, 37164056.0, 36470732.0, 38594428.0, 39643212.0, 55661188.0, 38228512.0, 36915344.0, 37732852.0, 39715324.0, 35654428.0, 36890748.0, 36102124.0, 41185672.0, 36084308.0, 48519300.0, 35112148.0, 53200188.0, 34895616.0, 38105504.0, 34744060.0, 36577292.0, 42516712.0, 34588680.0, 34299332.0, 31502576.0, 33671528.0, 52519636.0, 39313020.0, 30921122.0, 33436568.0, 34750464.0, 32755502.0, 30455678.0, 45349392.0, 33759172.0, 30928710.0, 30721594.0, 28553622.0, 37086956.0, 27234230.0, 29057718.0, 30849154.0, 32152740.0, 32435116.0, 28883614.0, 27631164.0, 28014396.0, 30293158.0, 27259540.0, 27689832.0, 38505268.0, 28499740.0, 27174164.0, 37247884.0, 30493682.0, 26781104.0, 33909012.0, 26714048.0, 29254206.0, 28125334.0, 25379126.0, 33482778.0, 31465870.0, 33620668.0, 25283554.0, 29284304.0, 27921558.0, 25663812.0, 30427334.0, 26084038.0, 25982592.0, 28934702.0, 28082194.0, 28506222.0, 27042390.0, 30143894.0, 33653588.0, 31939820.0, 34877264.0, 26740120.0, 26486640.0, 34443356.0, 34200948.0, 31196038.0, 27754784.0, 30572056.0, 25664650.0, 24826726.0, 29155898.0, 25286170.0, 27044958.0, 29642776.0]}\n"
          ]
        }
      ]
    },
    {
      "cell_type": "code",
      "source": [
        "loss, mae, mse = model.evaluate(test_dataset, test_labels, verbose=2)"
      ],
      "metadata": {
        "id": "huArfycrdpee",
        "colab": {
          "base_uri": "https://localhost:8080/"
        },
        "outputId": "9591c0ef-7b3c-4cc4-949a-07124acedb59"
      },
      "execution_count": 24,
      "outputs": [
        {
          "output_type": "stream",
          "name": "stdout",
          "text": [
            "9/9 - 0s - loss: 2504.0439 - mae: 2504.0439 - mse: 29642778.0000 - 25ms/epoch - 3ms/step\n"
          ]
        }
      ]
    },
    {
      "cell_type": "code",
      "source": [
        "test_dataset.head()"
      ],
      "metadata": {
        "id": "vp02MaGEpUVK",
        "colab": {
          "base_uri": "https://localhost:8080/",
          "height": 206
        },
        "outputId": "a7eca2ea-b24e-4789-ccb6-5c9f59619d28"
      },
      "execution_count": 25,
      "outputs": [
        {
          "output_type": "execute_result",
          "data": {
            "text/html": [
              "<div>\n",
              "<style scoped>\n",
              "    .dataframe tbody tr th:only-of-type {\n",
              "        vertical-align: middle;\n",
              "    }\n",
              "\n",
              "    .dataframe tbody tr th {\n",
              "        vertical-align: top;\n",
              "    }\n",
              "\n",
              "    .dataframe thead th {\n",
              "        text-align: right;\n",
              "    }\n",
              "</style>\n",
              "<table border=\"1\" class=\"dataframe\">\n",
              "  <thead>\n",
              "    <tr style=\"text-align: right;\">\n",
              "      <th></th>\n",
              "      <th>age</th>\n",
              "      <th>sex</th>\n",
              "      <th>bmi</th>\n",
              "      <th>children</th>\n",
              "      <th>smoker</th>\n",
              "      <th>region</th>\n",
              "    </tr>\n",
              "  </thead>\n",
              "  <tbody>\n",
              "    <tr>\n",
              "      <th>4</th>\n",
              "      <td>32</td>\n",
              "      <td>1.0</td>\n",
              "      <td>28.9</td>\n",
              "      <td>0</td>\n",
              "      <td>0.0</td>\n",
              "      <td>1.0</td>\n",
              "    </tr>\n",
              "    <tr>\n",
              "      <th>12</th>\n",
              "      <td>23</td>\n",
              "      <td>1.0</td>\n",
              "      <td>34.4</td>\n",
              "      <td>0</td>\n",
              "      <td>0.0</td>\n",
              "      <td>3.0</td>\n",
              "    </tr>\n",
              "    <tr>\n",
              "      <th>20</th>\n",
              "      <td>60</td>\n",
              "      <td>0.0</td>\n",
              "      <td>36.0</td>\n",
              "      <td>0</td>\n",
              "      <td>0.0</td>\n",
              "      <td>0.0</td>\n",
              "    </tr>\n",
              "    <tr>\n",
              "      <th>23</th>\n",
              "      <td>34</td>\n",
              "      <td>0.0</td>\n",
              "      <td>31.9</td>\n",
              "      <td>1</td>\n",
              "      <td>1.0</td>\n",
              "      <td>0.0</td>\n",
              "    </tr>\n",
              "    <tr>\n",
              "      <th>26</th>\n",
              "      <td>63</td>\n",
              "      <td>0.0</td>\n",
              "      <td>23.1</td>\n",
              "      <td>0</td>\n",
              "      <td>0.0</td>\n",
              "      <td>0.0</td>\n",
              "    </tr>\n",
              "  </tbody>\n",
              "</table>\n",
              "</div>"
            ],
            "text/plain": [
              "    age  sex   bmi  children  smoker  region\n",
              "4    32  1.0  28.9         0     0.0     1.0\n",
              "12   23  1.0  34.4         0     0.0     3.0\n",
              "20   60  0.0  36.0         0     0.0     0.0\n",
              "23   34  0.0  31.9         1     1.0     0.0\n",
              "26   63  0.0  23.1         0     0.0     0.0"
            ]
          },
          "metadata": {},
          "execution_count": 25
        }
      ]
    },
    {
      "cell_type": "code",
      "source": [
        "test_labels.head()"
      ],
      "metadata": {
        "id": "vRviSKCUpX5Z",
        "colab": {
          "base_uri": "https://localhost:8080/"
        },
        "outputId": "27cfc2a9-b1d5-424c-94f8-9b79ce9fe734"
      },
      "execution_count": 26,
      "outputs": [
        {
          "output_type": "execute_result",
          "data": {
            "text/plain": [
              "4      3866.86\n",
              "12     1826.84\n",
              "20    13228.85\n",
              "23    37701.88\n",
              "26    14451.84\n",
              "Name: expenses, dtype: float64"
            ]
          },
          "metadata": {},
          "execution_count": 26
        }
      ]
    },
    {
      "cell_type": "code",
      "source": [
        "test_predictions = model.predict(test_dataset).flatten()\n",
        "\n",
        "#Checking for the first person in the test_dataset, idx = 4.\n",
        "print(f\"The features of this person is\\n{dataset.iloc[4]}.\")\n",
        "print(f\"The actual value for the first person in the data set is {test_labels.iloc[0]}.\")\n",
        "print(f\"The prediction value for the first person in the data set is {test_predictions[0]:.2f}.\")"
      ],
      "metadata": {
        "id": "O4O_OO17hW0k",
        "colab": {
          "base_uri": "https://localhost:8080/"
        },
        "outputId": "b33a2cc1-5e69-4b99-82fd-37bfb2fa62b2"
      },
      "execution_count": 27,
      "outputs": [
        {
          "output_type": "stream",
          "name": "stdout",
          "text": [
            "The features of this person is\n",
            "age                32\n",
            "sex              male\n",
            "bmi              28.9\n",
            "children            0\n",
            "smoker             no\n",
            "region      northwest\n",
            "expenses      3866.86\n",
            "Name: 4, dtype: object.\n",
            "The actual value for the first person in the data set is 3866.86.\n",
            "The prediction value for the first person in the data set is 3791.57.\n"
          ]
        }
      ]
    },
    {
      "cell_type": "code",
      "metadata": {
        "id": "Xe7RXH3N3CWU",
        "colab": {
          "base_uri": "https://localhost:8080/",
          "height": 335
        },
        "outputId": "9e8288bb-f112-4f88-d58d-e8fd2bdb22ed"
      },
      "source": [
        "# RUN THIS CELL TO TEST YOUR MODEL. DO NOT MODIFY CONTENTS.\n",
        "# Test model by checking how well the model generalizes using the test set.\n",
        "loss, mae, mse = model.evaluate(test_dataset, test_labels, verbose=2)\n",
        "\n",
        "print(\"Testing set Mean Abs Error: {:5.2f} expenses\".format(mae))\n",
        "\n",
        "if mae < 3500:\n",
        "  print(\"You passed the challenge. Great job!\")\n",
        "else:\n",
        "  print(\"The Mean Abs Error must be less than 3500. Keep trying.\")\n",
        "\n",
        "# Plot predictions.\n",
        "test_predictions = model.predict(test_dataset).flatten()\n",
        "\n",
        "a = plt.axes(aspect='equal')\n",
        "plt.scatter(test_labels, test_predictions)\n",
        "plt.xlabel('True values (expenses)')\n",
        "plt.ylabel('Predictions (expenses)')\n",
        "lims = [0, 50000]\n",
        "plt.xlim(lims)\n",
        "plt.ylim(lims)\n",
        "_ = plt.plot(lims,lims)\n"
      ],
      "execution_count": 28,
      "outputs": [
        {
          "output_type": "stream",
          "name": "stdout",
          "text": [
            "9/9 - 0s - loss: 2504.0439 - mae: 2504.0439 - mse: 29642778.0000 - 27ms/epoch - 3ms/step\n",
            "Testing set Mean Abs Error: 2504.04 expenses\n",
            "You passed the challenge. Great job!\n"
          ]
        },
        {
          "output_type": "display_data",
          "data": {
            "image/png": "[encoded data removed]",
            "text/plain": [
              "<Figure size 432x288 with 1 Axes>"
            ]
          },
          "metadata": {
            "needs_background": "light"
          }
        }
      ]
    }
  ]
}